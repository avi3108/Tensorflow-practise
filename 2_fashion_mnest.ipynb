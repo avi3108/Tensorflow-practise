{
  "cells": [
    {
      "cell_type": "code",
      "execution_count": 15,
      "metadata": {
        "id": "n1WUAnOJ7Xk3"
      },
      "outputs": [],
      "source": [
        "import tensorflow as tf\n",
        "from tensorflow import keras\n",
        "import numpy as np"
      ]
    },
    {
      "cell_type": "code",
      "execution_count": 4,
      "metadata": {},
      "outputs": [
        {
          "name": "stdout",
          "output_type": "stream",
          "text": [
            "Collecting tensorflow\n",
            "  Using cached tensorflow-2.11.0-cp37-cp37m-manylinux_2_17_x86_64.manylinux2014_x86_64.whl (588.3 MB)\n",
            "Collecting tensorboard<2.12,>=2.11\n",
            "  Using cached tensorboard-2.11.2-py3-none-any.whl (6.0 MB)\n",
            "Collecting opt-einsum>=2.3.2\n",
            "  Using cached opt_einsum-3.3.0-py3-none-any.whl (65 kB)\n",
            "Collecting astunparse>=1.6.0\n",
            "  Using cached astunparse-1.6.3-py2.py3-none-any.whl (12 kB)\n",
            "Requirement already satisfied: protobuf<3.20,>=3.9.2 in /home/avi/anaconda3/lib/python3.7/site-packages (from tensorflow) (3.19.1)\n",
            "Requirement already satisfied: packaging in /home/avi/anaconda3/lib/python3.7/site-packages (from tensorflow) (21.3)\n",
            "Requirement already satisfied: h5py>=2.9.0 in /home/avi/anaconda3/lib/python3.7/site-packages (from tensorflow) (2.10.0)\n",
            "Requirement already satisfied: setuptools in /home/avi/anaconda3/lib/python3.7/site-packages (from tensorflow) (61.2.0)\n",
            "Collecting termcolor>=1.1.0\n",
            "  Using cached termcolor-2.2.0-py3-none-any.whl (6.6 kB)\n",
            "Collecting keras<2.12,>=2.11.0\n",
            "  Using cached keras-2.11.0-py2.py3-none-any.whl (1.7 MB)\n",
            "Requirement already satisfied: typing-extensions>=3.6.6 in /home/avi/anaconda3/lib/python3.7/site-packages (from tensorflow) (4.1.1)\n",
            "Requirement already satisfied: grpcio<2.0,>=1.24.3 in /home/avi/anaconda3/lib/python3.7/site-packages (from tensorflow) (1.42.0)\n",
            "Requirement already satisfied: wrapt>=1.11.0 in /home/avi/anaconda3/lib/python3.7/site-packages (from tensorflow) (1.12.1)\n",
            "Collecting tensorflow-estimator<2.12,>=2.11.0\n",
            "  Using cached tensorflow_estimator-2.11.0-py2.py3-none-any.whl (439 kB)\n",
            "Collecting tensorflow-io-gcs-filesystem>=0.23.1\n",
            "  Using cached tensorflow_io_gcs_filesystem-0.30.0-cp37-cp37m-manylinux_2_12_x86_64.manylinux2010_x86_64.whl (2.4 MB)\n",
            "Collecting gast<=0.4.0,>=0.2.1\n",
            "  Using cached gast-0.4.0-py3-none-any.whl (9.8 kB)\n",
            "Requirement already satisfied: numpy>=1.20 in /home/avi/anaconda3/lib/python3.7/site-packages (from tensorflow) (1.21.5)\n",
            "Collecting flatbuffers>=2.0\n",
            "  Using cached flatbuffers-23.1.21-py2.py3-none-any.whl (26 kB)\n",
            "Requirement already satisfied: six>=1.12.0 in /home/avi/anaconda3/lib/python3.7/site-packages (from tensorflow) (1.16.0)\n",
            "Collecting google-pasta>=0.1.1\n",
            "  Using cached google_pasta-0.2.0-py3-none-any.whl (57 kB)\n",
            "Collecting libclang>=13.0.0\n",
            "  Using cached libclang-15.0.6.1-py2.py3-none-manylinux2010_x86_64.whl (21.5 MB)\n",
            "Collecting absl-py>=1.0.0\n",
            "  Using cached absl_py-1.4.0-py3-none-any.whl (126 kB)\n",
            "Requirement already satisfied: wheel<1.0,>=0.23.0 in /home/avi/anaconda3/lib/python3.7/site-packages (from astunparse>=1.6.0->tensorflow) (0.37.1)\n",
            "Requirement already satisfied: requests<3,>=2.21.0 in /home/avi/anaconda3/lib/python3.7/site-packages (from tensorboard<2.12,>=2.11->tensorflow) (2.27.1)\n",
            "Collecting tensorboard-data-server<0.7.0,>=0.6.0\n",
            "  Using cached tensorboard_data_server-0.6.1-py3-none-manylinux2010_x86_64.whl (4.9 MB)\n",
            "Requirement already satisfied: markdown>=2.6.8 in /home/avi/anaconda3/lib/python3.7/site-packages (from tensorboard<2.12,>=2.11->tensorflow) (3.3.4)\n",
            "Requirement already satisfied: google-auth<3,>=1.6.3 in /home/avi/anaconda3/lib/python3.7/site-packages (from tensorboard<2.12,>=2.11->tensorflow) (1.33.0)\n",
            "Collecting tensorboard-plugin-wit>=1.6.0\n",
            "  Using cached tensorboard_plugin_wit-1.8.1-py3-none-any.whl (781 kB)\n",
            "Requirement already satisfied: werkzeug>=1.0.1 in /home/avi/anaconda3/lib/python3.7/site-packages (from tensorboard<2.12,>=2.11->tensorflow) (2.0.3)\n",
            "Collecting google-auth-oauthlib<0.5,>=0.4.1\n",
            "  Using cached google_auth_oauthlib-0.4.6-py2.py3-none-any.whl (18 kB)\n",
            "Requirement already satisfied: rsa<5,>=3.1.4 in /home/avi/anaconda3/lib/python3.7/site-packages (from google-auth<3,>=1.6.3->tensorboard<2.12,>=2.11->tensorflow) (4.7.2)\n",
            "Requirement already satisfied: cachetools<5.0,>=2.0.0 in /home/avi/anaconda3/lib/python3.7/site-packages (from google-auth<3,>=1.6.3->tensorboard<2.12,>=2.11->tensorflow) (4.2.2)\n",
            "Requirement already satisfied: pyasn1-modules>=0.2.1 in /home/avi/anaconda3/lib/python3.7/site-packages (from google-auth<3,>=1.6.3->tensorboard<2.12,>=2.11->tensorflow) (0.2.8)\n",
            "Collecting requests-oauthlib>=0.7.0\n",
            "  Using cached requests_oauthlib-1.3.1-py2.py3-none-any.whl (23 kB)\n",
            "Requirement already satisfied: importlib-metadata in /home/avi/anaconda3/lib/python3.7/site-packages (from markdown>=2.6.8->tensorboard<2.12,>=2.11->tensorflow) (4.11.3)\n",
            "Requirement already satisfied: pyasn1<0.5.0,>=0.4.6 in /home/avi/anaconda3/lib/python3.7/site-packages (from pyasn1-modules>=0.2.1->google-auth<3,>=1.6.3->tensorboard<2.12,>=2.11->tensorflow) (0.4.8)\n",
            "Requirement already satisfied: certifi>=2017.4.17 in /home/avi/anaconda3/lib/python3.7/site-packages (from requests<3,>=2.21.0->tensorboard<2.12,>=2.11->tensorflow) (2021.10.8)\n",
            "Requirement already satisfied: charset-normalizer~=2.0.0 in /home/avi/anaconda3/lib/python3.7/site-packages (from requests<3,>=2.21.0->tensorboard<2.12,>=2.11->tensorflow) (2.0.4)\n",
            "Requirement already satisfied: urllib3<1.27,>=1.21.1 in /home/avi/anaconda3/lib/python3.7/site-packages (from requests<3,>=2.21.0->tensorboard<2.12,>=2.11->tensorflow) (1.26.9)\n",
            "Requirement already satisfied: idna<4,>=2.5 in /home/avi/anaconda3/lib/python3.7/site-packages (from requests<3,>=2.21.0->tensorboard<2.12,>=2.11->tensorflow) (3.3)\n",
            "Collecting oauthlib>=3.0.0\n",
            "  Using cached oauthlib-3.2.2-py3-none-any.whl (151 kB)\n",
            "Requirement already satisfied: zipp>=0.5 in /home/avi/anaconda3/lib/python3.7/site-packages (from importlib-metadata->markdown>=2.6.8->tensorboard<2.12,>=2.11->tensorflow) (3.7.0)\n",
            "Requirement already satisfied: pyparsing!=3.0.5,>=2.0.2 in /home/avi/anaconda3/lib/python3.7/site-packages (from packaging->tensorflow) (3.0.4)\n",
            "Installing collected packages: oauthlib, requests-oauthlib, tensorboard-plugin-wit, tensorboard-data-server, google-auth-oauthlib, absl-py, termcolor, tensorflow-io-gcs-filesystem, tensorflow-estimator, tensorboard, opt-einsum, libclang, keras, google-pasta, gast, flatbuffers, astunparse, tensorflow\n",
            "Successfully installed absl-py-1.4.0 astunparse-1.6.3 flatbuffers-23.1.21 gast-0.4.0 google-auth-oauthlib-0.4.6 google-pasta-0.2.0 keras-2.11.0 libclang-15.0.6.1 oauthlib-3.2.2 opt-einsum-3.3.0 requests-oauthlib-1.3.1 tensorboard-2.11.2 tensorboard-data-server-0.6.1 tensorboard-plugin-wit-1.8.1 tensorflow-2.11.0 tensorflow-estimator-2.11.0 tensorflow-io-gcs-filesystem-0.30.0 termcolor-2.2.0\n"
          ]
        }
      ],
      "source": [
        "#!pip install tensorflow"
      ]
    },
    {
      "cell_type": "code",
      "execution_count": 6,
      "metadata": {
        "id": "k5PrAVrY71sg"
      },
      "outputs": [],
      "source": [
        "fashion_dataset = tf.keras.datasets.fashion_mnist"
      ]
    },
    {
      "cell_type": "code",
      "execution_count": 7,
      "metadata": {
        "colab": {
          "base_uri": "https://localhost:8080/"
        },
        "id": "dvz8XkCS7pan",
        "outputId": "7f0f4e7e-7c1e-4999-f196-ea4072ae3555"
      },
      "outputs": [
        {
          "name": "stdout",
          "output_type": "stream",
          "text": [
            "Downloading data from https://storage.googleapis.com/tensorflow/tf-keras-datasets/train-labels-idx1-ubyte.gz\n",
            "29515/29515 [==============================] - 0s 1us/step\n",
            "Downloading data from https://storage.googleapis.com/tensorflow/tf-keras-datasets/train-images-idx3-ubyte.gz\n",
            "26421880/26421880 [==============================] - 2s 0us/step\n",
            "Downloading data from https://storage.googleapis.com/tensorflow/tf-keras-datasets/t10k-labels-idx1-ubyte.gz\n",
            "5148/5148 [==============================] - 0s 0us/step\n",
            "Downloading data from https://storage.googleapis.com/tensorflow/tf-keras-datasets/t10k-images-idx3-ubyte.gz\n",
            "4422102/4422102 [==============================] - 0s 0us/step\n"
          ]
        }
      ],
      "source": [
        "(train_image ,train_label),(test_image,test_label) = fashion_dataset.load_data()"
      ]
    },
    {
      "cell_type": "code",
      "execution_count": 8,
      "metadata": {
        "id": "RvE93LgN_5Md"
      },
      "outputs": [],
      "source": [
        "train_image1 = train_image/255.0\n",
        "test_images1= test_image/255.0\n",
        "train_image_nr = train_image_nr.reshape(-1,28, 28, 1)"
      ]
    },
    {
      "cell_type": "code",
      "execution_count": 9,
      "metadata": {
        "colab": {
          "base_uri": "https://localhost:8080/"
        },
        "id": "dA9b7eUG82zu",
        "outputId": "20d9a763-b8e8-4f89-97c5-c531d01ebdb1"
      },
      "outputs": [
        {
          "data": {
            "text/plain": [
              "(28, 28)"
            ]
          },
          "execution_count": 9,
          "metadata": {},
          "output_type": "execute_result"
        }
      ],
      "source": [
        "train_image[0].shape"
      ]
    },
    {
      "cell_type": "code",
      "execution_count": 11,
      "metadata": {
        "colab": {
          "base_uri": "https://localhost:8080/"
        },
        "id": "PZHyy3ow8De3",
        "outputId": "e0a28f67-6ad0-4a68-d927-1ac12eae58c0"
      },
      "outputs": [
        {
          "data": {
            "text/plain": [
              "array([9, 0, 0, ..., 3, 0, 5], dtype=uint8)"
            ]
          },
          "execution_count": 11,
          "metadata": {},
          "output_type": "execute_result"
        }
      ],
      "source": [
        "train_label"
      ]
    },
    {
      "cell_type": "code",
      "execution_count": 10,
      "metadata": {
        "id": "_BECDFWA8pFW"
      },
      "outputs": [
        {
          "name": "stderr",
          "output_type": "stream",
          "text": [
            "2023-02-16 11:59:52.009124: W tensorflow/compiler/xla/stream_executor/platform/default/dso_loader.cc:64] Could not load dynamic library 'libcuda.so.1'; dlerror: libcuda.so.1: cannot open shared object file: No such file or directory; LD_LIBRARY_PATH: /home/avi/Downloads/aws_kinesis/amazon-kinesis-video-streams-producer-sdk-cpp/open-source/local/lib\n",
            "2023-02-16 11:59:52.009155: W tensorflow/compiler/xla/stream_executor/cuda/cuda_driver.cc:265] failed call to cuInit: UNKNOWN ERROR (303)\n",
            "2023-02-16 11:59:52.009177: I tensorflow/compiler/xla/stream_executor/cuda/cuda_diagnostics.cc:156] kernel driver does not appear to be running on this host (avi): /proc/driver/nvidia/version does not exist\n",
            "2023-02-16 11:59:52.009919: I tensorflow/core/platform/cpu_feature_guard.cc:193] This TensorFlow binary is optimized with oneAPI Deep Neural Network Library (oneDNN) to use the following CPU instructions in performance-critical operations:  AVX2 FMA\n",
            "To enable them in other operations, rebuild TensorFlow with the appropriate compiler flags.\n"
          ]
        }
      ],
      "source": [
        "\n",
        "model = tf.keras.Sequential([\n",
        "    keras.layers.Flatten(input_shape= (28,28)),\n",
        "    keras.layers.Dense(128,activation=tf.nn.relu),\n",
        "    keras.layers.Dense(10,activation= tf.nn.softmax)\n",
        "])\n",
        "\n",
        "model.compile(loss=\"sparse_categorical_crossentropy\",optimizer = tf.optimizers.Adam(),metrics = ['accuracy'])\n"
      ]
    },
    {
      "cell_type": "code",
      "execution_count": 12,
      "metadata": {
        "id": "1iTwZBy-Eg_Q"
      },
      "outputs": [],
      "source": [
        "#callbacks\n",
        "# please give same function name as it is \"on_epoch_end\" dont give other function name \n",
        "\n",
        "class myCall(tf.keras.callbacks.Callback):\n",
        "  def on_epoch_end(self,epoch,logs={}):\n",
        "    if(logs.get('loss') < 0.3321):\n",
        "      print(\"loss is low cancelling training \")\n",
        "      self.model.stop_training = True\n",
        "\n",
        "\n"
      ]
    },
    {
      "cell_type": "code",
      "execution_count": 13,
      "metadata": {
        "colab": {
          "base_uri": "https://localhost:8080/"
        },
        "id": "IZS_JoB6Eh23",
        "outputId": "69d5d8b6-87cf-4d18-939c-361d54513475"
      },
      "outputs": [
        {
          "name": "stdout",
          "output_type": "stream",
          "text": [
            "Epoch 1/5\n"
          ]
        },
        {
          "name": "stderr",
          "output_type": "stream",
          "text": [
            "2023-02-16 12:00:07.740039: W tensorflow/tsl/framework/cpu_allocator_impl.cc:82] Allocation of 188160000 exceeds 10% of free system memory.\n"
          ]
        },
        {
          "name": "stdout",
          "output_type": "stream",
          "text": [
            "1875/1875 [==============================] - 4s 2ms/step - loss: 0.5014 - accuracy: 0.8228\n",
            "Epoch 2/5\n",
            "1875/1875 [==============================] - 3s 2ms/step - loss: 0.3798 - accuracy: 0.8631\n",
            "Epoch 3/5\n",
            "1875/1875 [==============================] - 3s 2ms/step - loss: 0.3412 - accuracy: 0.8756\n",
            "Epoch 4/5\n",
            "1868/1875 [============================>.] - ETA: 0s - loss: 0.3157 - accuracy: 0.8860loss is low cancelling training \n",
            "1875/1875 [==============================] - 3s 2ms/step - loss: 0.3156 - accuracy: 0.8860\n"
          ]
        },
        {
          "data": {
            "text/plain": [
              "<keras.callbacks.History at 0x7fec582f5290>"
            ]
          },
          "execution_count": 13,
          "metadata": {},
          "output_type": "execute_result"
        }
      ],
      "source": [
        "calls = myCall()\n",
        "model.fit(train_image1,train_label,epochs=5,callbacks=[calls])"
      ]
    },
    {
      "cell_type": "code",
      "execution_count": 14,
      "metadata": {
        "colab": {
          "base_uri": "https://localhost:8080/"
        },
        "id": "FsK2Zohb9sva",
        "outputId": "6a33c868-5df4-4e4f-bc5e-9529d0246da0"
      },
      "outputs": [
        {
          "name": "stdout",
          "output_type": "stream",
          "text": [
            "313/313 [==============================] - 1s 1ms/step - loss: 0.3784 - accuracy: 0.8662\n"
          ]
        },
        {
          "data": {
            "text/plain": [
              "[0.3784255087375641, 0.8661999702453613]"
            ]
          },
          "execution_count": 14,
          "metadata": {},
          "output_type": "execute_result"
        }
      ],
      "source": [
        "model.evaluate(test_images1,test_label)"
      ]
    },
    {
      "cell_type": "code",
      "execution_count": null,
      "metadata": {
        "id": "-fYrxkKGC0QV"
      },
      "outputs": [],
      "source": []
    }
  ],
  "metadata": {
    "colab": {
      "provenance": []
    },
    "kernelspec": {
      "display_name": "Python 3.7.13 ('base')",
      "language": "python",
      "name": "python3"
    },
    "language_info": {
      "codemirror_mode": {
        "name": "ipython",
        "version": 3
      },
      "file_extension": ".py",
      "mimetype": "text/x-python",
      "name": "python",
      "nbconvert_exporter": "python",
      "pygments_lexer": "ipython3",
      "version": "3.7.13"
    },
    "vscode": {
      "interpreter": {
        "hash": "146d8846a7a671f14a52572341ae3d686be6aad2eb4af8271194ae862a45bab5"
      }
    }
  },
  "nbformat": 4,
  "nbformat_minor": 0
}
